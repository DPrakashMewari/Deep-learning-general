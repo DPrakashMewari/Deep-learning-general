{
 "cells": [
  {
   "cell_type": "code",
   "execution_count": 1,
   "id": "0e81be1a",
   "metadata": {},
   "outputs": [],
   "source": [
    "import keras "
   ]
  },
  {
   "cell_type": "raw",
   "id": "2c9ea58a",
   "metadata": {},
   "source": [
    "# Using a Data Augmentation in CNN we can perform many transformation with respect to images"
   ]
  },
  {
   "cell_type": "code",
   "execution_count": 12,
   "id": "240adcbf",
   "metadata": {},
   "outputs": [],
   "source": [
    "# This is Library to generate images and do transformation according to our parmameter : \n",
    "\n",
    "from keras.preprocessing.image import ImageDataGenerator,load_img,img_to_array\n",
    "\n",
    "datagen = ImageDataGenerator(\n",
    "        rotation_range=40,\n",
    "        width_shift_range=0.2,\n",
    "        height_shift_range=0.2,\n",
    "        rescale=1./255,\n",
    "        shear_range=0.2,\n",
    "        rotation_range = 1,\n",
    "        zoom_range=0.2,\n",
    "        vertical_flip = Tr\n",
    "        horizontal_flip=True,\n",
    "        fill_mode='nearest')\n",
    "img = load_img('Krishna.jpeg')\n",
    "\n",
    "x = img_to_array(img)  # this is a Numpy array with shape (3, 150, 150)\n",
    "x = x.reshape((1,) + x.shape)  # this is a Numpy array with shape (1, 3, 150, 150)\n",
    "\n",
    "\n",
    "# the .flow() command below generates batches of randomly transformed images\n",
    "# and saves the results to the `preview/` directory\n",
    "i = 0\n",
    "for batch in datagen.flow(x, batch_size=1,\n",
    "                          save_to_dir='img', save_prefix='img', save_format='jpeg'):\n",
    "    i += 1\n",
    "    if i > 20:\n",
    "        break  # otherwise the generator would loop indefinitely"
   ]
  }
 ],
 "metadata": {
  "kernelspec": {
   "display_name": "Python 3",
   "language": "python",
   "name": "python3"
  },
  "language_info": {
   "codemirror_mode": {
    "name": "ipython",
    "version": 3
   },
   "file_extension": ".py",
   "mimetype": "text/x-python",
   "name": "python",
   "nbconvert_exporter": "python",
   "pygments_lexer": "ipython3",
   "version": "3.8.5"
  }
 },
 "nbformat": 4,
 "nbformat_minor": 5
}
