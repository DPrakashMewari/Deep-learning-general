{
 "cells": [
  {
   "cell_type": "code",
   "execution_count": null,
   "id": "bde60333",
   "metadata": {},
   "outputs": [],
   "source": [
    "# McCulloch-Pitts Model Was the first algo which was inspirerd by Human Brain warren Mculloch,walter pitts introduced it.\n",
    "# They apply the architecture of biological neuron \n",
    "# McCulloch and Pitts developed a mathematical formulation know as linear threshold gate, which describes the activity of a single neuron with two states, firing or not-firing.\n"
   ]
  },
  {
   "cell_type": "code",
   "execution_count": null,
   "id": "3debce3e",
   "metadata": {},
   "outputs": [],
   "source": [
    "# In there is Step function which takes input and Do the summation and after that based on some threshold value value it will work \n",
    "# >= Threshhold value it will fire else it will not fire "
   ]
  },
  {
   "cell_type": "code",
   "execution_count": 1,
   "id": "0f2d43e7",
   "metadata": {},
   "outputs": [
    {
     "name": "stdout",
     "output_type": "stream",
     "text": [
      "Input vector:[0 1 1], Weight vector:[-1  1  1]\n"
     ]
    }
   ],
   "source": [
    "# Generate inputs and weight\n",
    "import numpy as np\n",
    "np.random.seed(seed=0)\n",
    "I = np.random.choice([0,1], 3)# generate random vector I, sampling from {0,1}\n",
    "W = np.random.choice([-1,1], 3) # generate random vector W, sampling from {-1,1} \n",
    "print(f'Input vector:{I}, Weight vector:{W}')\n"
   ]
  },
  {
   "cell_type": "code",
   "execution_count": 2,
   "id": "ce20d81e",
   "metadata": {},
   "outputs": [
    {
     "name": "stdout",
     "output_type": "stream",
     "text": [
      "Dot product: 2\n"
     ]
    }
   ],
   "source": [
    "# Computing Dot Products of weight and Input\n",
    "# Dot Product\n",
    "dot = I @ W\n",
    "print(f'Dot product: {dot}')\n",
    "\n"
   ]
  },
  {
   "cell_type": "code",
   "execution_count": 3,
   "id": "7811bbdf",
   "metadata": {},
   "outputs": [],
   "source": [
    "# Defining a threshold function \n",
    "\n",
    "def linear_threshold_gate(dot: int, T: float) -> int:\n",
    "    '''Returns the binary threshold output'''\n",
    "    if dot >= T:\n",
    "        return 1\n",
    "    else:\n",
    "        return 0"
   ]
  },
  {
   "cell_type": "code",
   "execution_count": 7,
   "id": "c83a17a5",
   "metadata": {},
   "outputs": [
    {
     "name": "stdout",
     "output_type": "stream",
     "text": [
      "Activation: 1\n"
     ]
    }
   ],
   "source": [
    "# Let check with result\n",
    "\n",
    "T = 2\n",
    "activation = linear_threshold_gate(dot, T)\n",
    "print(f'Activation: {activation}')\n",
    "\n",
    "# If we increase the threshold it will not fire or not work"
   ]
  },
  {
   "cell_type": "code",
   "execution_count": 8,
   "id": "5b2e09c1",
   "metadata": {},
   "outputs": [
    {
     "name": "stdout",
     "output_type": "stream",
     "text": [
      "Activation: 0\n"
     ]
    }
   ],
   "source": [
    "T = 3\n",
    "activation = linear_threshold_gate(dot, T)\n",
    "print(f'Activation: {activation}')"
   ]
  }
 ],
 "metadata": {
  "kernelspec": {
   "display_name": "Python 3",
   "language": "python",
   "name": "python3"
  },
  "language_info": {
   "codemirror_mode": {
    "name": "ipython",
    "version": 3
   },
   "file_extension": ".py",
   "mimetype": "text/x-python",
   "name": "python",
   "nbconvert_exporter": "python",
   "pygments_lexer": "ipython3",
   "version": "3.8.10"
  }
 },
 "nbformat": 4,
 "nbformat_minor": 5
}
