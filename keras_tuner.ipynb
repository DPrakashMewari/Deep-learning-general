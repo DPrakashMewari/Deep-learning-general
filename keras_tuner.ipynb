{
  "nbformat": 4,
  "nbformat_minor": 5,
  "metadata": {
    "kernelspec": {
      "display_name": "Python 3",
      "language": "python",
      "name": "python3"
    },
    "language_info": {
      "codemirror_mode": {
        "name": "ipython",
        "version": 3
      },
      "file_extension": ".py",
      "mimetype": "text/x-python",
      "name": "python",
      "nbconvert_exporter": "python",
      "pygments_lexer": "ipython3",
      "version": "3.8.5"
    },
    "colab": {
      "name": "keras tuner.ipynb",
      "provenance": []
    }
  },
  "cells": [
    {
      "cell_type": "code",
      "metadata": {
        "id": "d120339c"
      },
      "source": [
        "\n",
        "import pandas as pd\n",
        "from tensorflow import keras\n",
        "from tensorflow.keras import layers\n",
        "from kerastuner.tuners import RandomSearch\n"
      ],
      "id": "d120339c",
      "execution_count": 5,
      "outputs": []
    },
    {
      "cell_type": "code",
      "metadata": {
        "id": "nPJ3i63hwrTm"
      },
      "source": [
        ""
      ],
      "id": "nPJ3i63hwrTm",
      "execution_count": null,
      "outputs": []
    },
    {
      "cell_type": "code",
      "metadata": {
        "id": "1b79d54c"
      },
      "source": [
        "df = pd.read_csv('Real_Combine.csv')"
      ],
      "id": "1b79d54c",
      "execution_count": 6,
      "outputs": []
    },
    {
      "cell_type": "markdown",
      "metadata": {
        "id": "vkurpXVXxGnQ"
      },
      "source": [
        ""
      ],
      "id": "vkurpXVXxGnQ"
    },
    {
      "cell_type": "code",
      "metadata": {
        "colab": {
          "base_uri": "https://localhost:8080/"
        },
        "id": "70d093fb",
        "outputId": "ac390a96-e909-44d1-eccf-8f66615d5ec9"
      },
      "source": [
        "ls"
      ],
      "id": "70d093fb",
      "execution_count": 7,
      "outputs": [
        {
          "output_type": "stream",
          "text": [
            "Real_Combine.csv  \u001b[0m\u001b[01;34msample_data\u001b[0m/\n"
          ],
          "name": "stdout"
        }
      ]
    },
    {
      "cell_type": "code",
      "metadata": {
        "colab": {
          "base_uri": "https://localhost:8080/"
        },
        "id": "62d2cc86",
        "outputId": "0bf06397-c3f3-4e15-a822-bb8dab0a7ef4"
      },
      "source": [
        "df.info()"
      ],
      "id": "62d2cc86",
      "execution_count": 8,
      "outputs": [
        {
          "output_type": "stream",
          "text": [
            "<class 'pandas.core.frame.DataFrame'>\n",
            "RangeIndex: 1093 entries, 0 to 1092\n",
            "Data columns (total 9 columns):\n",
            " #   Column  Non-Null Count  Dtype  \n",
            "---  ------  --------------  -----  \n",
            " 0   T       1093 non-null   float64\n",
            " 1   TM      1093 non-null   float64\n",
            " 2   Tm      1093 non-null   float64\n",
            " 3   SLP     1093 non-null   float64\n",
            " 4   H       1093 non-null   float64\n",
            " 5   VV      1093 non-null   float64\n",
            " 6   V       1093 non-null   float64\n",
            " 7   VM      1093 non-null   float64\n",
            " 8   PM 2.5  1092 non-null   float64\n",
            "dtypes: float64(9)\n",
            "memory usage: 77.0 KB\n"
          ],
          "name": "stdout"
        }
      ]
    },
    {
      "cell_type": "code",
      "metadata": {
        "colab": {
          "base_uri": "https://localhost:8080/"
        },
        "id": "aee7a314",
        "outputId": "5129a63e-43e9-4327-867c-1e7c5e489223"
      },
      "source": [
        "df.shape"
      ],
      "id": "aee7a314",
      "execution_count": 9,
      "outputs": [
        {
          "output_type": "execute_result",
          "data": {
            "text/plain": [
              "(1093, 9)"
            ]
          },
          "metadata": {
            "tags": []
          },
          "execution_count": 9
        }
      ]
    },
    {
      "cell_type": "code",
      "metadata": {
        "id": "e21398f1"
      },
      "source": [
        "# Divide the data into X and Y\n",
        "X = df.iloc[:,0:8]\n",
        "y = df.iloc[:,-1]"
      ],
      "id": "e21398f1",
      "execution_count": 10,
      "outputs": []
    },
    {
      "cell_type": "code",
      "metadata": {
        "id": "25187259"
      },
      "source": [
        "# Now we are going to learn Keras tuner that will help to decide How much hidden layer you should choose and\n",
        "# Parameter regarding intializing every single hidden layer."
      ],
      "id": "25187259",
      "execution_count": null,
      "outputs": []
    },
    {
      "cell_type": "code",
      "metadata": {
        "id": "f6333d6b"
      },
      "source": [
        "# This is Function that we find in keras documentation\n",
        "# That Function will decide which parmeter you should choose you can tuned it also\n",
        "\n",
        "def build_model(hp):\n",
        "    model = keras.Sequential()\n",
        "    for i in range(hp.Int('num_layers', 2, 20)):\n",
        "        model.add(layers.Dense(units=hp.Int('units_' + str(i),\n",
        "                                            min_value=32,\n",
        "                                            max_value=512,\n",
        "                                            step=32),\n",
        "                               activation='relu'))\n",
        "    model.add(layers.Dense(1, activation='linear'))\n",
        "    model.compile(\n",
        "        optimizer=keras.optimizers.Adam(\n",
        "            hp.Choice('learning_rate', [1e-2, 1e-3, 1e-4])),\n",
        "        loss='mean_absolute_error',\n",
        "        metrics=['mean_absolute_error'])\n",
        "    return model"
      ],
      "id": "f6333d6b",
      "execution_count": 11,
      "outputs": []
    },
    {
      "cell_type": "code",
      "metadata": {
        "id": "c4ee286d"
      },
      "source": [
        "# Now execute a function that we define using  Random Search ; Random Search will Decide those parameter\n",
        "\n",
        "tuner = RandomSearch(\n",
        "    build_model,\n",
        "    objective='val_mean_absolute_error',\n",
        "    max_trials=5,\n",
        "    executions_per_trial=3,\n",
        "    directory='project',\n",
        "    project_name='Air Quality Index')"
      ],
      "id": "c4ee286d",
      "execution_count": 12,
      "outputs": []
    },
    {
      "cell_type": "code",
      "metadata": {
        "colab": {
          "base_uri": "https://localhost:8080/"
        },
        "id": "837f4606",
        "outputId": "38c3de03-9458-4e75-c64e-627726b9a0ff"
      },
      "source": [
        "#  With Random Search that Parameter is going to find  \n",
        "tuner.search_space_summary()"
      ],
      "id": "837f4606",
      "execution_count": 13,
      "outputs": [
        {
          "output_type": "stream",
          "text": [
            "Search space summary\n",
            "Default search space size: 4\n",
            "num_layers (Int)\n",
            "{'default': None, 'conditions': [], 'min_value': 2, 'max_value': 20, 'step': 1, 'sampling': None}\n",
            "units_0 (Int)\n",
            "{'default': None, 'conditions': [], 'min_value': 32, 'max_value': 512, 'step': 32, 'sampling': None}\n",
            "units_1 (Int)\n",
            "{'default': None, 'conditions': [], 'min_value': 32, 'max_value': 512, 'step': 32, 'sampling': None}\n",
            "learning_rate (Choice)\n",
            "{'default': 0.01, 'conditions': [], 'values': [0.01, 0.001, 0.0001], 'ordered': True}\n"
          ],
          "name": "stdout"
        }
      ]
    },
    {
      "cell_type": "code",
      "metadata": {
        "id": "cc9f280e"
      },
      "source": [
        "# Split the data \n",
        "from sklearn.model_selection import train_test_split\n",
        "X_train, X_test, y_train, y_test = train_test_split(X, y, test_size=0.3, random_state=0)"
      ],
      "id": "cc9f280e",
      "execution_count": 14,
      "outputs": []
    },
    {
      "cell_type": "code",
      "metadata": {
        "colab": {
          "base_uri": "https://localhost:8080/"
        },
        "id": "37534ef7",
        "outputId": "52e6bdb9-6734-4f71-fc2b-d10df921e95b"
      },
      "source": [
        "tuner.search(X_train, y_train,\n",
        "             epochs=5,\n",
        "             validation_data=(X_test, y_test))"
      ],
      "id": "37534ef7",
      "execution_count": 15,
      "outputs": [
        {
          "output_type": "stream",
          "text": [
            "Trial 5 Complete [00h 00m 07s]\n",
            "val_mean_absolute_error: nan\n",
            "\n",
            "Best val_mean_absolute_error So Far: nan\n",
            "Total elapsed time: 00h 00m 35s\n",
            "INFO:tensorflow:Oracle triggered exit\n"
          ],
          "name": "stdout"
        }
      ]
    },
    {
      "cell_type": "code",
      "metadata": {
        "colab": {
          "base_uri": "https://localhost:8080/"
        },
        "id": "691dfe05",
        "outputId": "af99b2ae-9c33-4cfb-ec34-ad238880c13c"
      },
      "source": [
        "tuner.results_summary()"
      ],
      "id": "691dfe05",
      "execution_count": 16,
      "outputs": [
        {
          "output_type": "stream",
          "text": [
            "Results summary\n",
            "Results in project/Air Quality Index\n",
            "Showing 10 best trials\n",
            "Objective(name='val_mean_absolute_error', direction='min')\n",
            "Trial summary\n",
            "Hyperparameters:\n",
            "num_layers: 15\n",
            "units_0: 224\n",
            "units_1: 512\n",
            "learning_rate: 0.01\n",
            "units_2: 32\n",
            "units_3: 32\n",
            "units_4: 32\n",
            "units_5: 32\n",
            "units_6: 32\n",
            "units_7: 32\n",
            "units_8: 32\n",
            "units_9: 32\n",
            "units_10: 32\n",
            "units_11: 32\n",
            "units_12: 32\n",
            "units_13: 32\n",
            "units_14: 32\n",
            "Score: nan\n",
            "Trial summary\n",
            "Hyperparameters:\n",
            "num_layers: 3\n",
            "units_0: 128\n",
            "units_1: 192\n",
            "learning_rate: 0.01\n",
            "units_2: 160\n",
            "units_3: 448\n",
            "units_4: 192\n",
            "units_5: 448\n",
            "units_6: 288\n",
            "units_7: 352\n",
            "units_8: 224\n",
            "units_9: 64\n",
            "units_10: 160\n",
            "units_11: 32\n",
            "units_12: 448\n",
            "units_13: 288\n",
            "units_14: 256\n",
            "Score: nan\n",
            "Trial summary\n",
            "Hyperparameters:\n",
            "num_layers: 18\n",
            "units_0: 480\n",
            "units_1: 192\n",
            "learning_rate: 0.001\n",
            "units_2: 352\n",
            "units_3: 128\n",
            "units_4: 256\n",
            "units_5: 224\n",
            "units_6: 320\n",
            "units_7: 416\n",
            "units_8: 352\n",
            "units_9: 256\n",
            "units_10: 384\n",
            "units_11: 288\n",
            "units_12: 192\n",
            "units_13: 192\n",
            "units_14: 352\n",
            "units_15: 32\n",
            "units_16: 32\n",
            "units_17: 32\n",
            "Score: nan\n",
            "Trial summary\n",
            "Hyperparameters:\n",
            "num_layers: 7\n",
            "units_0: 224\n",
            "units_1: 384\n",
            "learning_rate: 0.0001\n",
            "units_2: 32\n",
            "units_3: 32\n",
            "units_4: 128\n",
            "units_5: 128\n",
            "units_6: 448\n",
            "units_7: 352\n",
            "units_8: 96\n",
            "units_9: 96\n",
            "units_10: 352\n",
            "units_11: 64\n",
            "units_12: 480\n",
            "units_13: 320\n",
            "units_14: 448\n",
            "units_15: 352\n",
            "units_16: 384\n",
            "units_17: 320\n",
            "Score: nan\n",
            "Trial summary\n",
            "Hyperparameters:\n",
            "num_layers: 8\n",
            "units_0: 384\n",
            "units_1: 32\n",
            "learning_rate: 0.001\n",
            "units_2: 160\n",
            "units_3: 192\n",
            "units_4: 160\n",
            "units_5: 352\n",
            "units_6: 448\n",
            "units_7: 288\n",
            "units_8: 64\n",
            "units_9: 64\n",
            "units_10: 96\n",
            "units_11: 64\n",
            "units_12: 288\n",
            "units_13: 480\n",
            "units_14: 512\n",
            "units_15: 384\n",
            "units_16: 512\n",
            "units_17: 128\n",
            "Score: nan\n"
          ],
          "name": "stdout"
        }
      ]
    },
    {
      "cell_type": "code",
      "metadata": {
        "id": "5cbdf184"
      },
      "source": [
        ""
      ],
      "id": "5cbdf184",
      "execution_count": null,
      "outputs": []
    }
  ]
}