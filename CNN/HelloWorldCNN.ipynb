{
 "cells": [
  {
   "cell_type": "code",
   "execution_count": 11,
   "metadata": {},
   "outputs": [],
   "source": [
    "# Import the necessary libraries\n",
    "import numpy as np\n",
    "import matplotlib.pyplot as plt\n",
    "from keras.models import Sequential\n",
    "from keras.layers import Conv2D, MaxPooling2D, Flatten, Dense\n",
    "\n",
    "# Define the CNN architecture\n",
    "model = Sequential()\n",
    "model.add(Conv2D(32, (3, 3), activation='relu', input_shape=(28, 28, 1)))  # Convolutional layer with 32 filters and 3x3 kernel\n",
    "model.add(MaxPooling2D((2, 2)))  # Max pooling layer with 2x2 pool size\n",
    "model.add(Flatten())  # Flatten the output for the fully connected layers\n",
    "model.add(Dense(10, activation='softmax'))  # Fully connected layer with 10 neurons for 10 classes and softmax activation\n",
    "\n"
   ]
  },
  {
   "cell_type": "code",
   "execution_count": 13,
   "metadata": {},
   "outputs": [],
   "source": [
    "# Compile the model\n",
    "model.compile(optimizer='adam', loss='categorical_crossentropy', metrics=['accuracy'])\n"
   ]
  },
  {
   "cell_type": "code",
   "execution_count": 14,
   "metadata": {},
   "outputs": [],
   "source": [
    "# Load the example MNIST dataset\n",
    "from keras.datasets import mnist\n",
    "(x_train, y_train), (x_test, y_test) = mnist.load_data()\n",
    "\n",
    "# Preprocess the data\n",
    "x_train = x_train.reshape(-1, 28, 28, 1)  # Reshape the input data to match the CNN input shape\n",
    "x_test = x_test.reshape(-1, 28, 28, 1)\n",
    "x_train = x_train.astype('float32') / 255  # Normalize the pixel values to the range of 0-1\n",
    "x_test = x_test.astype('float32') / 255\n",
    "y_train = np.eye(10)[y_train]  # Convert the target labels to one-hot encoded vectors\n",
    "y_test = np.eye(10)[y_test]"
   ]
  },
  {
   "cell_type": "code",
   "execution_count": 22,
   "metadata": {},
   "outputs": [
    {
     "name": "stdout",
     "output_type": "stream",
     "text": [
      "Epoch 1/20\n",
      "1875/1875 [==============================] - 11s 6ms/step - loss: 0.0043 - accuracy: 0.9986 - val_loss: 0.0909 - val_accuracy: 0.9839\n",
      "Epoch 2/20\n",
      "1875/1875 [==============================] - 16s 9ms/step - loss: 0.0028 - accuracy: 0.9991 - val_loss: 0.0986 - val_accuracy: 0.9825\n",
      "Epoch 3/20\n",
      "1875/1875 [==============================] - 17s 9ms/step - loss: 0.0030 - accuracy: 0.9991 - val_loss: 0.0956 - val_accuracy: 0.9834\n",
      "Epoch 4/20\n",
      "1875/1875 [==============================] - 16s 9ms/step - loss: 0.0024 - accuracy: 0.9993 - val_loss: 0.1019 - val_accuracy: 0.9829\n",
      "Epoch 5/20\n",
      "1875/1875 [==============================] - 17s 9ms/step - loss: 0.0035 - accuracy: 0.9988 - val_loss: 0.1016 - val_accuracy: 0.9833\n",
      "Epoch 6/20\n",
      "1875/1875 [==============================] - 18s 9ms/step - loss: 0.0025 - accuracy: 0.9994 - val_loss: 0.1042 - val_accuracy: 0.9827\n",
      "Epoch 7/20\n",
      "1875/1875 [==============================] - 16s 9ms/step - loss: 0.0023 - accuracy: 0.9993 - val_loss: 0.1014 - val_accuracy: 0.9833\n",
      "Epoch 8/20\n",
      "1875/1875 [==============================] - 16s 8ms/step - loss: 0.0027 - accuracy: 0.9991 - val_loss: 0.1046 - val_accuracy: 0.9826\n",
      "Epoch 9/20\n",
      "1875/1875 [==============================] - 15s 8ms/step - loss: 0.0029 - accuracy: 0.9990 - val_loss: 0.0935 - val_accuracy: 0.9843\n",
      "Epoch 10/20\n",
      "1875/1875 [==============================] - 15s 8ms/step - loss: 0.0018 - accuracy: 0.9994 - val_loss: 0.1024 - val_accuracy: 0.9831\n",
      "Epoch 11/20\n",
      "1875/1875 [==============================] - 14s 7ms/step - loss: 0.0022 - accuracy: 0.9993 - val_loss: 0.1005 - val_accuracy: 0.9830\n",
      "Epoch 12/20\n",
      "1875/1875 [==============================] - 14s 7ms/step - loss: 0.0021 - accuracy: 0.9994 - val_loss: 0.1081 - val_accuracy: 0.9833\n",
      "Epoch 13/20\n",
      "1875/1875 [==============================] - 14s 7ms/step - loss: 0.0028 - accuracy: 0.9991 - val_loss: 0.1055 - val_accuracy: 0.9828\n",
      "Epoch 14/20\n",
      "1875/1875 [==============================] - 14s 7ms/step - loss: 0.0014 - accuracy: 0.9995 - val_loss: 0.1161 - val_accuracy: 0.9829\n",
      "Epoch 15/20\n",
      "1875/1875 [==============================] - 14s 7ms/step - loss: 0.0014 - accuracy: 0.9997 - val_loss: 0.1139 - val_accuracy: 0.9820\n",
      "Epoch 16/20\n",
      "1875/1875 [==============================] - 14s 7ms/step - loss: 0.0016 - accuracy: 0.9995 - val_loss: 0.1043 - val_accuracy: 0.9842\n",
      "Epoch 17/20\n",
      "1875/1875 [==============================] - 14s 7ms/step - loss: 0.0018 - accuracy: 0.9995 - val_loss: 0.1106 - val_accuracy: 0.9831\n",
      "Epoch 18/20\n",
      "1875/1875 [==============================] - 14s 7ms/step - loss: 0.0018 - accuracy: 0.9995 - val_loss: 0.1068 - val_accuracy: 0.9839\n",
      "Epoch 19/20\n",
      "1875/1875 [==============================] - 14s 7ms/step - loss: 2.2627e-04 - accuracy: 1.0000 - val_loss: 0.1097 - val_accuracy: 0.9831\n",
      "Epoch 20/20\n",
      "1875/1875 [==============================] - 14s 7ms/step - loss: 0.0011 - accuracy: 0.9995 - val_loss: 0.1314 - val_accuracy: 0.9817\n"
     ]
    },
    {
     "data": {
      "text/plain": [
       "<keras.callbacks.History at 0x27435de0950>"
      ]
     },
     "execution_count": 22,
     "metadata": {},
     "output_type": "execute_result"
    }
   ],
   "source": [
    "# Train the model\n",
    "model.fit(x_train, y_train, epochs=20, validation_data=(x_test, y_test))\n",
    "\n",
    "# Need 10 or more epoch learn Better and better"
   ]
  },
  {
   "cell_type": "code",
   "execution_count": 24,
   "metadata": {},
   "outputs": [
    {
     "name": "stdout",
     "output_type": "stream",
     "text": [
      "1/1 [==============================] - 0s 19ms/step\n"
     ]
    },
    {
     "data": {
      "image/png": "[encoded data removed]",
      "text/plain": [
       "<Figure size 1000x500 with 10 Axes>"
      ]
     },
     "metadata": {},
     "output_type": "display_data"
    }
   ],
   "source": [
    "# Make predictions on a new dataset\n",
    "# Load the new dataset\n",
    "new_data = np.random.rand(20, 28, 28, 1)  # Example: Randomly generated 10 images\n",
    "\n",
    "# Preprocess the new data\n",
    "new_data = new_data.astype('float32') / 255\n",
    "\n",
    "# Make predictions\n",
    "predictions = model.predict(new_data)\n",
    "\n",
    "# Print the predicted class labels and display the original MNIST images\n",
    "fig, axes = plt.subplots(2, 5, figsize=(10, 5))\n",
    "\n",
    "for i, ax in enumerate(axes.flat):\n",
    "    # Display the original MNIST image\n",
    "    ax.imshow(x_test[i].reshape(28, 28), cmap='gray')\n",
    "    ax.axis('off')\n",
    "    ax.set_title(f\"Label: {np.argmax(y_test[i])}\\nPredicted: {np.argmax(predictions[i])}\")\n",
    "\n",
    "plt.tight_layout()\n",
    "plt.show()\n",
    "\n"
   ]
  }
 ],
 "metadata": {
  "kernelspec": {
   "display_name": "Python 3",
   "language": "python",
   "name": "python3"
  },
  "language_info": {
   "codemirror_mode": {
    "name": "ipython",
    "version": 3
   },
   "file_extension": ".py",
   "mimetype": "text/x-python",
   "name": "python",
   "nbconvert_exporter": "python",
   "pygments_lexer": "ipython3",
   "version": "3.11.1"
  },
  "orig_nbformat": 4
 },
 "nbformat": 4,
 "nbformat_minor": 2
}
