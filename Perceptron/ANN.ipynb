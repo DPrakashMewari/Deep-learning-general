{
 "cells": [
  {
   "cell_type": "code",
   "execution_count": 2,
   "id": "5151b079-e699-40b9-9c8c-ad6c2b38d64a",
   "metadata": {},
   "outputs": [
    {
     "name": "stderr",
     "output_type": "stream",
     "text": [
      "2023-07-01 20:24:52.669293: I tensorflow/tsl/cuda/cudart_stub.cc:28] Could not find cuda drivers on your machine, GPU will not be used.\n",
      "2023-07-01 20:24:52.737558: I tensorflow/tsl/cuda/cudart_stub.cc:28] Could not find cuda drivers on your machine, GPU will not be used.\n",
      "2023-07-01 20:24:52.738458: I tensorflow/core/platform/cpu_feature_guard.cc:182] This TensorFlow binary is optimized to use available CPU instructions in performance-critical operations.\n",
      "To enable the following instructions: AVX2 FMA, in other operations, rebuild TensorFlow with the appropriate compiler flags.\n",
      "2023-07-01 20:24:53.754817: W tensorflow/compiler/tf2tensorrt/utils/py_utils.cc:38] TF-TRT Warning: Could not find TensorRT\n"
     ]
    }
   ],
   "source": [
    "# Import basic Library \n",
    "import pandas as pd\n",
    "import matplotlib.pyplot as plt \n",
    "import tensorflow as tf\n",
    "import sklearn"
   ]
  },
  {
   "cell_type": "code",
   "execution_count": 3,
   "id": "271cdf2b-efc4-4d10-98d4-36383d4ed6e6",
   "metadata": {},
   "outputs": [],
   "source": [
    "# lOAD The dataset \n",
    "df = pd.read_csv(\"https://raw.githubusercontent.com/sharmaroshan/Churn-Modelling-Dataset/master/Churn_Modelling.csv\")"
   ]
  },
  {
   "cell_type": "code",
   "execution_count": 4,
   "id": "3226f824-127a-424f-a4c7-315172247689",
   "metadata": {},
   "outputs": [
    {
     "data": {
      "text/plain": [
       "(10000, 14)"
      ]
     },
     "execution_count": 4,
     "metadata": {},
     "output_type": "execute_result"
    }
   ],
   "source": [
    "df.shape"
   ]
  },
  {
   "cell_type": "code",
   "execution_count": 6,
   "id": "13f4d19d-eebc-4dd9-a677-90dea12f8a85",
   "metadata": {},
   "outputs": [],
   "source": [
    "# Split the dataset into independent and dependent \n",
    "X = df.iloc[:, 3:13]\n",
    "y = df.iloc[:,13]"
   ]
  },
  {
   "cell_type": "code",
   "execution_count": 8,
   "id": "79eef455-e6d6-403d-b719-920c04cb017c",
   "metadata": {},
   "outputs": [
    {
     "data": {
      "text/html": [
       "<div>\n",
       "<style scoped>\n",
       "    .dataframe tbody tr th:only-of-type {\n",
       "        vertical-align: middle;\n",
       "    }\n",
       "\n",
       "    .dataframe tbody tr th {\n",
       "        vertical-align: top;\n",
       "    }\n",
       "\n",
       "    .dataframe thead th {\n",
       "        text-align: right;\n",
       "    }\n",
       "</style>\n",
       "<table border=\"1\" class=\"dataframe\">\n",
       "  <thead>\n",
       "    <tr style=\"text-align: right;\">\n",
       "      <th></th>\n",
       "      <th>CreditScore</th>\n",
       "      <th>Geography</th>\n",
       "      <th>Gender</th>\n",
       "      <th>Age</th>\n",
       "      <th>Tenure</th>\n",
       "      <th>Balance</th>\n",
       "      <th>NumOfProducts</th>\n",
       "      <th>HasCrCard</th>\n",
       "      <th>IsActiveMember</th>\n",
       "      <th>EstimatedSalary</th>\n",
       "    </tr>\n",
       "  </thead>\n",
       "  <tbody>\n",
       "    <tr>\n",
       "      <th>0</th>\n",
       "      <td>619</td>\n",
       "      <td>France</td>\n",
       "      <td>Female</td>\n",
       "      <td>42</td>\n",
       "      <td>2</td>\n",
       "      <td>0.00</td>\n",
       "      <td>1</td>\n",
       "      <td>1</td>\n",
       "      <td>1</td>\n",
       "      <td>101348.88</td>\n",
       "    </tr>\n",
       "    <tr>\n",
       "      <th>1</th>\n",
       "      <td>608</td>\n",
       "      <td>Spain</td>\n",
       "      <td>Female</td>\n",
       "      <td>41</td>\n",
       "      <td>1</td>\n",
       "      <td>83807.86</td>\n",
       "      <td>1</td>\n",
       "      <td>0</td>\n",
       "      <td>1</td>\n",
       "      <td>112542.58</td>\n",
       "    </tr>\n",
       "    <tr>\n",
       "      <th>2</th>\n",
       "      <td>502</td>\n",
       "      <td>France</td>\n",
       "      <td>Female</td>\n",
       "      <td>42</td>\n",
       "      <td>8</td>\n",
       "      <td>159660.80</td>\n",
       "      <td>3</td>\n",
       "      <td>1</td>\n",
       "      <td>0</td>\n",
       "      <td>113931.57</td>\n",
       "    </tr>\n",
       "    <tr>\n",
       "      <th>3</th>\n",
       "      <td>699</td>\n",
       "      <td>France</td>\n",
       "      <td>Female</td>\n",
       "      <td>39</td>\n",
       "      <td>1</td>\n",
       "      <td>0.00</td>\n",
       "      <td>2</td>\n",
       "      <td>0</td>\n",
       "      <td>0</td>\n",
       "      <td>93826.63</td>\n",
       "    </tr>\n",
       "    <tr>\n",
       "      <th>4</th>\n",
       "      <td>850</td>\n",
       "      <td>Spain</td>\n",
       "      <td>Female</td>\n",
       "      <td>43</td>\n",
       "      <td>2</td>\n",
       "      <td>125510.82</td>\n",
       "      <td>1</td>\n",
       "      <td>1</td>\n",
       "      <td>1</td>\n",
       "      <td>79084.10</td>\n",
       "    </tr>\n",
       "  </tbody>\n",
       "</table>\n",
       "</div>"
      ],
      "text/plain": [
       "   CreditScore Geography  Gender  Age  Tenure    Balance  NumOfProducts  \\\n",
       "0          619    France  Female   42       2       0.00              1   \n",
       "1          608     Spain  Female   41       1   83807.86              1   \n",
       "2          502    France  Female   42       8  159660.80              3   \n",
       "3          699    France  Female   39       1       0.00              2   \n",
       "4          850     Spain  Female   43       2  125510.82              1   \n",
       "\n",
       "   HasCrCard  IsActiveMember  EstimatedSalary  \n",
       "0          1               1        101348.88  \n",
       "1          0               1        112542.58  \n",
       "2          1               0        113931.57  \n",
       "3          0               0         93826.63  \n",
       "4          1               1         79084.10  "
      ]
     },
     "execution_count": 8,
     "metadata": {},
     "output_type": "execute_result"
    }
   ],
   "source": [
    "X.head()"
   ]
  },
  {
   "cell_type": "code",
   "execution_count": 28,
   "id": "7023b60f-1009-47c8-8098-5f6e1f07be00",
   "metadata": {},
   "outputs": [
    {
     "data": {
      "text/plain": [
       "0    1\n",
       "1    0\n",
       "2    1\n",
       "3    0\n",
       "4    0\n",
       "Name: Exited, dtype: int64"
      ]
     },
     "execution_count": 28,
     "metadata": {},
     "output_type": "execute_result"
    }
   ],
   "source": [
    "y.head()"
   ]
  },
  {
   "cell_type": "code",
   "execution_count": 9,
   "id": "ec3c0645-4dd5-4d8c-9f36-1220c3363432",
   "metadata": {},
   "outputs": [],
   "source": [
    "geography = pd.get_dummies(df.Geography,drop_first=True)\n",
    "gender = pd.get_dummies(df.Gender,drop_first=True)"
   ]
  },
  {
   "cell_type": "code",
   "execution_count": 10,
   "id": "d80ee3df-fc4f-492f-875b-0eacd341f631",
   "metadata": {},
   "outputs": [],
   "source": [
    "X.drop(columns=['Geography','Gender'],inplace=True)"
   ]
  },
  {
   "cell_type": "code",
   "execution_count": 11,
   "id": "ffddb772-dcb4-465b-8147-31770a50515c",
   "metadata": {},
   "outputs": [],
   "source": [
    "X= pd.concat([X,geography,gender],axis=1)"
   ]
  },
  {
   "cell_type": "code",
   "execution_count": 17,
   "id": "9cafe80c-ed6e-487e-97ca-03d65b17a96a",
   "metadata": {},
   "outputs": [],
   "source": [
    "# Splitting the dataset into train and test \n",
    "\n",
    "from sklearn.model_selection import train_test_split\n",
    "\n",
    "\n",
    "X_train,X_test,y_train,y_test = train_test_split(X,y,test_size=0.3,random_state=0)"
   ]
  },
  {
   "cell_type": "code",
   "execution_count": 18,
   "id": "14043010-e192-4271-bfa6-266f2cf52f07",
   "metadata": {},
   "outputs": [],
   "source": [
    "# For Which all algorithm Scaling is required :\n",
    "\n",
    "# Anything related to distance based Scaling required \n",
    "# But Boosting Technique not required that ,,,,,"
   ]
  },
  {
   "cell_type": "code",
   "execution_count": 20,
   "id": "847e874d-f736-4b72-a164-4e75a3096ce3",
   "metadata": {},
   "outputs": [],
   "source": [
    "# Feature Scaling : \n",
    "from sklearn.preprocessing import StandardScaler\n",
    "\n",
    "sc = StandardScaler()\n",
    "\n",
    "X_train = sc.fit_transform(X_train)\n",
    "X_test = sc.transform(X_test)"
   ]
  },
  {
   "cell_type": "code",
   "execution_count": 21,
   "id": "479bdec6-2ef0-44df-ad67-9458d0ce47e6",
   "metadata": {},
   "outputs": [
    {
     "data": {
      "text/plain": [
       "(7000, 11)"
      ]
     },
     "execution_count": 21,
     "metadata": {},
     "output_type": "execute_result"
    }
   ],
   "source": [
    "X_train.shape"
   ]
  },
  {
   "cell_type": "code",
   "execution_count": 22,
   "id": "5a79dbcf-78c0-49e1-b83f-64e91cd94d2e",
   "metadata": {},
   "outputs": [
    {
     "data": {
      "text/plain": [
       "(3000, 11)"
      ]
     },
     "execution_count": 22,
     "metadata": {},
     "output_type": "execute_result"
    }
   ],
   "source": [
    "X_test.shape"
   ]
  },
  {
   "cell_type": "code",
   "execution_count": 23,
   "id": "98b12fc5-4dcd-4ced-b800-1301adf520ef",
   "metadata": {},
   "outputs": [],
   "source": [
    "import tensorflow as tf\n",
    "from tensorflow.keras.models import Sequential\n",
    "from tensorflow.keras.layers import Dense\n",
    "from tensorflow.keras.layers import LeakyReLU,PReLU,ELU,ReLU\n",
    "from tensorflow.keras.layers import Dropout\n",
    "\n",
    "\n"
   ]
  },
  {
   "cell_type": "code",
   "execution_count": null,
   "id": "cf8b5751-c55c-4e79-b083-ff9df7c03f3a",
   "metadata": {},
   "outputs": [],
   "source": [
    "# Sequential : KIND OF BLOCK WHERE FP AND BP \n",
    "# Dense : WHENEVER WANT TO CREATE HIDDEN LAYER WE USE DENSE\n",
    "# Activation : APPLYING BASED ON PROBLEM \n",
    "# Dropout : TO REDUCE OVERFITTING WE USE DROPOUT LAYER WHERE NO USE IT WILL DEACTIVATE\n"
   ]
  },
  {
   "cell_type": "code",
   "execution_count": 33,
   "id": "ca7d3cc5-f251-484e-b53c-a444f6b6a326",
   "metadata": {},
   "outputs": [],
   "source": [
    "# lET iNITialize the ann:\n",
    "\n",
    "classifer = Sequential()\n",
    "\n",
    "# Adding the Input layer\n",
    "classifer.add(Dense(units=11,activation='relu'))\n",
    "\n",
    "\n",
    "# Adding the Hidden layer -1\n",
    "classifer.add(Dense(units=7,activation='relu'))\n",
    "classifer.add(Dropout(0.2))\n",
    "\n",
    "\n",
    "# Adding the Hidden layer -2\n",
    "classifer.add(Dense(units=7,activation='relu'))\n",
    "\n",
    "# Adding the Output layer \n",
    "classifer.add(Dense(units=1,activation='sigmoid'))\n"
   ]
  },
  {
   "cell_type": "code",
   "execution_count": 34,
   "id": "9747baac-0d9a-45ce-9088-fb309bed0804",
   "metadata": {},
   "outputs": [],
   "source": [
    "import tensorflow\n",
    "opt = tensorflow.keras.optimizers.Adam(learning_rate=0.1)\n",
    "\n",
    "classifer.compile(optimizer=opt,loss='binary_crossentropy',metrics=['accuracy'])"
   ]
  },
  {
   "cell_type": "code",
   "execution_count": 35,
   "id": "7986bcda-824d-43de-bf09-681456626474",
   "metadata": {},
   "outputs": [],
   "source": [
    "# Early Stopping - \n",
    "\n",
    "import tensorflow as tf \n",
    "\n",
    "early_stopping = tf.keras.callbacks.EarlyStopping(\n",
    "    monitor='val_loss',\n",
    "    min_delta=0.0001,\n",
    "    patience=20,\n",
    "    verbose=1,\n",
    "    mode='auto',\n",
    "    baseline=None,\n",
    "    restore_best_weights=False,\n",
    "    start_from_epoch=0\n",
    ")"
   ]
  },
  {
   "cell_type": "code",
   "execution_count": 36,
   "id": "de42cb73-3345-4c7b-a194-41540e39e096",
   "metadata": {},
   "outputs": [
    {
     "name": "stdout",
     "output_type": "stream",
     "text": [
      "Epoch 1/100\n"
     ]
    },
    {
     "name": "stderr",
     "output_type": "stream",
     "text": [
      "/opt/conda/lib/python3.10/site-packages/keras/engine/data_adapter.py:1700: FutureWarning: The behavior of `series[i:j]` with an integer-dtype index is deprecated. In a future version, this will be treated as *label-based* indexing, consistent with e.g. `series[i]` lookups. To retain the old behavior, use `series.iloc[i:j]`. To get the future behavior, use `series.loc[i:j]`.\n",
      "  return t[start:end]\n"
     ]
    },
    {
     "name": "stdout",
     "output_type": "stream",
     "text": [
      "469/469 [==============================] - 2s 3ms/step - loss: 0.5059 - accuracy: 0.7959 - val_loss: 0.4897 - val_accuracy: 0.7962\n",
      "Epoch 2/100\n",
      "469/469 [==============================] - 1s 2ms/step - loss: 0.5021 - accuracy: 0.7985 - val_loss: 0.5048 - val_accuracy: 0.7962\n",
      "Epoch 3/100\n",
      "469/469 [==============================] - 1s 2ms/step - loss: 0.5008 - accuracy: 0.7978 - val_loss: 0.4981 - val_accuracy: 0.7962\n",
      "Epoch 4/100\n",
      "469/469 [==============================] - 1s 2ms/step - loss: 0.5023 - accuracy: 0.7980 - val_loss: 0.5072 - val_accuracy: 0.7962\n",
      "Epoch 5/100\n",
      "469/469 [==============================] - 1s 2ms/step - loss: 0.5042 - accuracy: 0.7985 - val_loss: 0.5083 - val_accuracy: 0.7962\n",
      "Epoch 6/100\n",
      "469/469 [==============================] - 1s 2ms/step - loss: 0.5065 - accuracy: 0.7985 - val_loss: 0.5090 - val_accuracy: 0.7962\n",
      "Epoch 7/100\n",
      "469/469 [==============================] - 1s 2ms/step - loss: 0.5062 - accuracy: 0.7985 - val_loss: 0.5051 - val_accuracy: 0.7962\n",
      "Epoch 8/100\n",
      "469/469 [==============================] - 1s 2ms/step - loss: 0.5046 - accuracy: 0.7985 - val_loss: 0.5233 - val_accuracy: 0.7962\n",
      "Epoch 9/100\n",
      "469/469 [==============================] - 1s 2ms/step - loss: 0.5054 - accuracy: 0.7985 - val_loss: 0.5067 - val_accuracy: 0.7962\n",
      "Epoch 10/100\n",
      "469/469 [==============================] - 1s 2ms/step - loss: 0.5053 - accuracy: 0.7985 - val_loss: 0.5062 - val_accuracy: 0.7962\n",
      "Epoch 11/100\n",
      "469/469 [==============================] - 1s 2ms/step - loss: 0.5055 - accuracy: 0.7985 - val_loss: 0.5071 - val_accuracy: 0.7962\n",
      "Epoch 12/100\n",
      "469/469 [==============================] - 1s 2ms/step - loss: 0.5062 - accuracy: 0.7985 - val_loss: 0.5060 - val_accuracy: 0.7962\n",
      "Epoch 13/100\n",
      "469/469 [==============================] - 1s 2ms/step - loss: 0.5054 - accuracy: 0.7985 - val_loss: 0.5108 - val_accuracy: 0.7962\n",
      "Epoch 14/100\n",
      "469/469 [==============================] - 1s 2ms/step - loss: 0.5049 - accuracy: 0.7985 - val_loss: 0.5185 - val_accuracy: 0.7962\n",
      "Epoch 15/100\n",
      "469/469 [==============================] - 1s 2ms/step - loss: 0.5066 - accuracy: 0.7985 - val_loss: 0.5064 - val_accuracy: 0.7962\n",
      "Epoch 16/100\n",
      "469/469 [==============================] - 1s 2ms/step - loss: 0.5056 - accuracy: 0.7985 - val_loss: 0.5156 - val_accuracy: 0.7962\n",
      "Epoch 17/100\n",
      "469/469 [==============================] - 1s 2ms/step - loss: 0.5075 - accuracy: 0.7985 - val_loss: 0.5068 - val_accuracy: 0.7962\n",
      "Epoch 18/100\n",
      "469/469 [==============================] - 1s 2ms/step - loss: 0.5058 - accuracy: 0.7985 - val_loss: 0.5058 - val_accuracy: 0.7962\n",
      "Epoch 19/100\n",
      "469/469 [==============================] - 1s 2ms/step - loss: 0.5072 - accuracy: 0.7985 - val_loss: 0.5082 - val_accuracy: 0.7962\n",
      "Epoch 20/100\n",
      "469/469 [==============================] - 1s 2ms/step - loss: 0.5064 - accuracy: 0.7985 - val_loss: 0.5077 - val_accuracy: 0.7962\n",
      "Epoch 21/100\n",
      "469/469 [==============================] - 1s 2ms/step - loss: 0.5046 - accuracy: 0.7985 - val_loss: 0.5060 - val_accuracy: 0.7962\n",
      "Epoch 21: early stopping\n"
     ]
    }
   ],
   "source": [
    "# Stopped at 33 Epochs : Here Accuracy not Increasing\n",
    "model_history = classifer.fit(X_train,y_train,validation_split=0.33,batch_size=10,epochs=100,callbacks=early_stopping)"
   ]
  },
  {
   "cell_type": "code",
   "execution_count": 37,
   "id": "e7beb74b-7d0d-4ad5-b913-93d46503b1e6",
   "metadata": {},
   "outputs": [
    {
     "data": {
      "text/plain": [
       "dict_keys(['loss', 'accuracy', 'val_loss', 'val_accuracy'])"
      ]
     },
     "execution_count": 37,
     "metadata": {},
     "output_type": "execute_result"
    }
   ],
   "source": [
    "model_history.history.keys()"
   ]
  },
  {
   "cell_type": "code",
   "execution_count": 38,
   "id": "2738b77a-95fd-484e-bebd-6c1f873f04b8",
   "metadata": {},
   "outputs": [
    {
     "data": {
      "image/png": "[encoded data removed]",
      "text/plain": [
       "<Figure size 640x480 with 1 Axes>"
      ]
     },
     "metadata": {},
     "output_type": "display_data"
    },
    {
     "data": {
      "image/png": "[encoded data removed]",
      "text/plain": [
       "<Figure size 640x480 with 1 Axes>"
      ]
     },
     "metadata": {},
     "output_type": "display_data"
    }
   ],
   "source": [
    "# summarize history for accuracy\n",
    "plt.plot(model_history.history['accuracy'])\n",
    "plt.plot(model_history.history['val_accuracy'])\n",
    "plt.title('model accuracy')\n",
    "plt.ylabel('accuracy')\n",
    "plt.xlabel('epoch')\n",
    "plt.legend(['train', 'test'], loc='upper left')\n",
    "plt.show()\n",
    "# summarize history for loss\n",
    "plt.plot(model_history.history['loss'])\n",
    "plt.plot(model_history.history['val_loss'])\n",
    "plt.title('model loss')\n",
    "plt.ylabel('loss')\n",
    "plt.xlabel('epoch')\n",
    "plt.legend(['train', 'test'], loc='upper left')\n",
    "plt.show()"
   ]
  },
  {
   "cell_type": "code",
   "execution_count": 39,
   "id": "902f20c9-1c6f-4f99-bfd2-09c25d1d1e21",
   "metadata": {},
   "outputs": [
    {
     "name": "stdout",
     "output_type": "stream",
     "text": [
      "94/94 [==============================] - 0s 900us/step\n"
     ]
    }
   ],
   "source": [
    "y_pred = classifer.predict(X_test)\n",
    "y_pred= (y_pred>=0.5)"
   ]
  },
  {
   "cell_type": "code",
   "execution_count": 40,
   "id": "57127d66-406c-47cd-bedc-980e916c747f",
   "metadata": {},
   "outputs": [
    {
     "data": {
      "text/plain": [
       "array([[2379,    0],\n",
       "       [ 621,    0]])"
      ]
     },
     "execution_count": 40,
     "metadata": {},
     "output_type": "execute_result"
    }
   ],
   "source": [
    "from sklearn.metrics import confusion_matrix\n",
    "cm = confusion_matrix(y_test,y_pred)\n",
    "cm"
   ]
  },
  {
   "cell_type": "code",
   "execution_count": 41,
   "id": "fccd7f99-f571-443b-8d2b-c1b521f92b4b",
   "metadata": {},
   "outputs": [
    {
     "data": {
      "text/plain": [
       "0.793"
      ]
     },
     "execution_count": 41,
     "metadata": {},
     "output_type": "execute_result"
    }
   ],
   "source": [
    "from sklearn.metrics import accuracy_score\n",
    "\n",
    "accuracy_score(y_pred,y_test)"
   ]
  },
  {
   "cell_type": "code",
   "execution_count": 42,
   "id": "b9d63531-3d51-412c-b0d2-3ef171950714",
   "metadata": {},
   "outputs": [
    {
     "data": {
      "text/plain": [
       "[array([[ 2.3969923e-01,  1.5458559e+00,  4.3073118e-01, -2.5201635e+00,\n",
       "          2.2102017e+00, -4.9741283e-01,  2.7354939e+00, -1.3093815e+00,\n",
       "          8.2038206e-01, -3.3742409e+00,  1.5166006e+00],\n",
       "        [ 2.5746577e+00, -7.1911985e-01, -2.9214480e+00,  2.2756920e+00,\n",
       "          7.2631383e-01, -2.6604185e+00,  1.6093363e+00, -9.9170227e+00,\n",
       "          2.1726345e-01,  3.5705223e+00, -6.6001433e-01],\n",
       "        [-3.1718833e+00,  6.9976550e-01, -2.7807233e-01, -7.9158449e-01,\n",
       "         -1.2537780e-01,  1.1172775e+00, -2.0255525e+00,  3.6290069e+00,\n",
       "         -2.4912493e-01,  1.2394559e+00, -2.3472009e+00],\n",
       "        [ 2.1795561e+00,  9.1308981e-01, -8.9080733e-01,  5.6667013e+00,\n",
       "         -5.4323578e-01, -1.3750367e+00, -3.2580056e+00, -7.0216975e+00,\n",
       "         -6.4555156e-01,  7.0909184e-01,  2.5326279e-01],\n",
       "        [ 8.1979275e+00,  6.7861390e-01,  4.0308726e-01, -8.7136631e+00,\n",
       "          8.6682349e-02, -1.0474838e+00, -3.1713364e+00, -2.3713522e-01,\n",
       "          3.3662668e-01, -2.2198808e+00,  7.5292010e+00],\n",
       "        [ 5.5668467e-01,  1.0509748e+00, -4.2977220e-01, -1.7778754e+00,\n",
       "         -2.2342465e+00, -7.5051087e-01, -1.9741496e+00,  5.8162298e+00,\n",
       "          5.3504074e-01, -3.2135117e+00, -5.8391577e-01],\n",
       "        [-6.0474639e+00,  1.6384753e+00,  3.1399739e+00, -1.6159385e+00,\n",
       "          2.2341925e-01,  1.3997288e+00,  4.2322259e+00,  2.7536213e-01,\n",
       "          6.9735694e-01,  9.9315271e+00, -4.2320647e+00],\n",
       "        [ 1.1434139e+00,  1.0968932e-01, -2.5997565e+00,  1.1492431e+01,\n",
       "         -4.0958127e-01, -2.8572423e+00, -7.9943776e+00,  3.1491539e-01,\n",
       "         -2.5311608e-02, -4.9586859e+00, -2.2950318e+00],\n",
       "        [ 1.2205353e+00, -3.0060002e-01,  2.7015674e+00, -4.4747500e+00,\n",
       "         -1.3156767e+00, -1.3369370e+00,  4.1021556e-01, -1.8329564e+00,\n",
       "         -6.3217026e-01,  4.6647439e+00,  5.7018304e-01],\n",
       "        [-5.5725908e+00,  2.0597073e-01,  2.6912808e+00, -1.8966842e-01,\n",
       "          3.1961250e+00,  4.2076111e+00, -8.2596689e-03,  3.7439995e+00,\n",
       "          6.3891232e-01,  2.1794608e+00, -5.0517406e+00],\n",
       "        [-9.9446955e+00,  1.9566882e-01,  7.1379366e+00,  1.7450565e+00,\n",
       "         -8.8524032e-01,  2.1087477e+00,  9.2097092e+00,  2.8062587e+00,\n",
       "          4.1689852e-01, -3.7507398e+00, -8.8885031e+00]], dtype=float32),\n",
       " array([ 3.296628  , -3.1038477 , -1.516677  , -0.33522117, -1.4958538 ,\n",
       "        -2.135464  , -0.23550184, -0.25333217, -3.0193691 ,  4.034111  ,\n",
       "         1.1845505 ], dtype=float32),\n",
       " array([[-6.8691123e-01, -5.7427535e+00, -4.2245871e-01, -9.4947331e-02,\n",
       "          5.6541033e+00, -6.4603478e-01, -7.2706372e-01],\n",
       "        [-5.9830999e-01, -1.1967117e+00, -1.7734335e-01, -1.2010351e+00,\n",
       "         -7.9474461e-01, -9.4071984e-01,  2.0122875e-01],\n",
       "        [-6.2304842e-01, -1.3396378e+00, -8.3814597e-01, -1.5748824e+00,\n",
       "         -2.3685956e-01, -9.1230118e-01, -5.5052447e-01],\n",
       "        [-1.1543622e+00, -7.2671456e+00, -9.7279584e-01, -7.8030616e-01,\n",
       "          5.5419791e-01, -5.1590949e-01, -2.6629071e+00],\n",
       "        [ 3.1262409e-02, -1.3742867e+00, -9.0604103e-01, -1.5485725e+00,\n",
       "          9.0534478e-01, -8.2089061e-01, -3.3954191e-01],\n",
       "        [-8.4775491e-03, -9.1819286e-01, -6.1314274e-02,  1.4880897e-01,\n",
       "          9.1094947e-01, -4.1773045e-01, -2.1712177e+00],\n",
       "        [-6.8540478e-01, -8.2636344e-01, -4.9339277e-01, -1.6403573e+00,\n",
       "          3.9953840e+00, -7.2802103e-01, -5.5824941e-01],\n",
       "        [-1.5832555e+00,  3.7456975e+00, -3.2116270e-01, -1.5739079e+00,\n",
       "          4.4629254e+00, -5.4840392e-01, -2.5740840e+00],\n",
       "        [-1.1491522e-01, -1.5207408e-01, -1.3514905e+00, -1.0519305e+00,\n",
       "         -1.2082984e+00, -6.8050188e-01, -1.1681381e+00],\n",
       "        [-1.7168887e-01, -1.3621904e+00, -4.8928071e-02, -2.2552675e-01,\n",
       "          1.0000568e+01, -3.3771181e-01, -1.4010817e+00],\n",
       "        [-3.6166969e-01, -4.3189893e+00, -3.1612355e-01, -1.9469862e+00,\n",
       "          3.3624268e+00, -6.1226082e-01, -9.5369416e-01]], dtype=float32),\n",
       " array([-0.71300817, -1.3394144 , -0.8486214 , -1.0091856 , -0.48709926,\n",
       "        -0.8677441 , -3.4454863 ], dtype=float32),\n",
       " array([[ 0.06466565, -0.05052958,  0.04265647, -0.4358168 ,  0.37778637,\n",
       "         -0.4844455 , -0.00419231],\n",
       "        [-2.1163232 , -1.2686976 , -1.345062  , -0.47984272, -0.37312678,\n",
       "         -0.96906376, -0.9895871 ],\n",
       "        [-0.04785959, -0.69860893, -0.19806498, -1.196245  , -0.15368107,\n",
       "         -0.8459922 ,  0.38620886],\n",
       "        [-0.33441052, -0.42750722, -0.9828244 , -0.5983748 , -0.77941406,\n",
       "         -0.59828347, -0.39033356],\n",
       "        [-0.89324147, -0.07127713, -0.23786464, -0.5399819 , -1.5097852 ,\n",
       "         -0.7173414 , -1.0563701 ],\n",
       "        [-0.07719317,  0.91955084, -0.22709881, -1.1933043 , -0.4296789 ,\n",
       "         -0.2567845 ,  0.8633623 ],\n",
       "        [ 1.008989  , -0.5893185 ,  0.1677846 , -0.6589637 , -1.1773586 ,\n",
       "         -0.31552586, -0.62116915]], dtype=float32),\n",
       " array([-0.7325688 , -1.8408047 , -0.99213487, -0.54866827, -0.00602819,\n",
       "        -1.0391203 , -0.7593923 ], dtype=float32),\n",
       " array([[-0.3168562 ],\n",
       "        [ 0.20101579],\n",
       "        [ 0.44806993],\n",
       "        [ 0.3836436 ],\n",
       "        [-0.00367463],\n",
       "        [-0.1033871 ],\n",
       "        [-0.3372271 ]], dtype=float32),\n",
       " array([-1.3005607], dtype=float32)]"
      ]
     },
     "execution_count": 42,
     "metadata": {},
     "output_type": "execute_result"
    }
   ],
   "source": [
    "classifer.get_weights() # This Many it trained on : "
   ]
  },
  {
   "cell_type": "code",
   "execution_count": null,
   "id": "4bf20c2e-2fcb-411f-a2c8-85fde479b338",
   "metadata": {},
   "outputs": [],
   "source": [
    "# RF : BB\n",
    "# DT : WB\n",
    "# LR : LR,NB"
   ]
  }
 ],
 "metadata": {
  "kernelspec": {
   "display_name": "Python 3 (ipykernel)",
   "language": "python",
   "name": "python3"
  },
  "language_info": {
   "codemirror_mode": {
    "name": "ipython",
    "version": 3
   },
   "file_extension": ".py",
   "mimetype": "text/x-python",
   "name": "python",
   "nbconvert_exporter": "python",
   "pygments_lexer": "ipython3",
   "version": "3.10.6"
  }
 },
 "nbformat": 4,
 "nbformat_minor": 5
}
